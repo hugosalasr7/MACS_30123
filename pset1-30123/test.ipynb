{
 "cells": [
  {
   "cell_type": "code",
   "execution_count": 1,
   "metadata": {},
   "outputs": [],
   "source": [
    "import numpy as np\n",
    "import scipy.stats as sts\n",
    "from numba import jit\n",
    "import time"
   ]
  },
  {
   "cell_type": "code",
   "execution_count": 2,
   "metadata": {},
   "outputs": [],
   "source": [
    "def sim_loop(z_0, S, T, eps_mat, z_mat, rho, mu):\n",
    "    for s_ind in range(S):\n",
    "        z_tm1 = z_0\n",
    "        for t_ind in range(T):\n",
    "            e_t = eps_mat[t_ind, s_ind]\n",
    "            z_t = rho * z_tm1 + (1 - rho) * mu + e_t\n",
    "            z_mat[t_ind, s_ind] = z_t\n",
    "            z_tm1 = z_t"
   ]
  },
  {
   "cell_type": "code",
   "execution_count": 3,
   "metadata": {},
   "outputs": [],
   "source": [
    "from numba.pycc import CC\n",
    "\n",
    "cc = CC('pset1_30123')\n",
    "@cc.export('sim_loop_jit', 'f4, i4, i4, f8[:,:], f8[:,:], f4, f4')\n",
    "\n",
    "def sim_loop_jit(z_0, S, T, eps_mat, z_mat, rho, mu):\n",
    "    for s_ind in range(S):\n",
    "        z_tm1 = z_0\n",
    "        for t_ind in range(T):\n",
    "            e_t = eps_mat[t_ind, s_ind]\n",
    "            z_t = rho * z_tm1 + (1 - rho) * mu + e_t\n",
    "            z_mat[t_ind, s_ind] = z_t\n",
    "            z_tm1 = z_t\n",
    "\n",
    "cc.compile()"
   ]
  },
  {
   "cell_type": "code",
   "execution_count": 4,
   "metadata": {},
   "outputs": [],
   "source": [
    "def simulate_health(rho = 0.5, mu = 3.0, sigma = 1.0, numba = False):\n",
    "\n",
    "    # Set model parameters\n",
    "    rho = rho\n",
    "    mu = mu\n",
    "    sigma = sigma\n",
    "    z_0 = mu\n",
    "\n",
    "    # Set simulation parameters, draw all idiosyncratic random shocks,\n",
    "    # and create empty containers\n",
    "    S = 1000 # Set the number of lives to simulate\n",
    "    T = int(4160) # Set the number of periods for each simulation\n",
    "    np.random.seed(25)\n",
    "    eps_mat = sts.norm.rvs(loc=0, scale=sigma, size=(T, S))\n",
    "    z_mat = np.zeros((T, S))\n",
    "\n",
    "    if numba:\n",
    "        pset1_30123.sim_loop_jit(z_0, S, T, eps_mat, z_mat, rho, mu)\n",
    "    else:\n",
    "        sim_loop(z_0, S, T, eps_mat, z_mat, rho, mu)"
   ]
  },
  {
   "cell_type": "code",
   "execution_count": 15,
   "metadata": {},
   "outputs": [
    {
     "name": "stdout",
     "output_type": "stream",
     "text": [
      "Without Numba: elapsed seconds = 2.2470703125\n"
     ]
    }
   ],
   "source": [
    "#Without Numba\n",
    "start = time.time()\n",
    "simulate_health(numba = False)\n",
    "end = time.time()\n",
    "print(\"Without Numba: elapsed seconds = %s\" % (end - start))"
   ]
  },
  {
   "cell_type": "code",
   "execution_count": 16,
   "metadata": {},
   "outputs": [
    {
     "name": "stdout",
     "output_type": "stream",
     "text": [
      "Numba: elapsed seconds = 0.1876685619354248\n"
     ]
    }
   ],
   "source": [
    "import pset1_30123\n",
    "\n",
    "#Without Numba\n",
    "start = time.time()\n",
    "simulate_health(numba = True)\n",
    "end = time.time()\n",
    "print(\"Numba: elapsed seconds = %s\" % (end - start))"
   ]
  }
 ],
 "metadata": {
  "interpreter": {
   "hash": "6360bfe70dc72ab21e75430f573111e63b2a2abe4e510cba9fb87249c6db02cf"
  },
  "kernelspec": {
   "display_name": "Python 3.9.12 64-bit (windows store)",
   "language": "python",
   "name": "python3"
  },
  "language_info": {
   "codemirror_mode": {
    "name": "ipython",
    "version": 3
   },
   "file_extension": ".py",
   "mimetype": "text/x-python",
   "name": "python",
   "nbconvert_exporter": "python",
   "pygments_lexer": "ipython3",
   "version": "3.9.12"
  },
  "orig_nbformat": 4
 },
 "nbformat": 4,
 "nbformat_minor": 2
}
