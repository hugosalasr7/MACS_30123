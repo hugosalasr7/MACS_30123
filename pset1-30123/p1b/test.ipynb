{
 "cells": [
  {
   "cell_type": "code",
   "execution_count": 42,
   "metadata": {},
   "outputs": [
    {
     "name": "stdout",
     "output_type": "stream",
     "text": [
      "[1, 2, 3, 4, 5, 6, 7, 8, 9, 10, 11, 12, 13, 14, 15, 16, 17, 18, 19, 20]\n",
      "[0.4371178150177002, 0.26453709602355957, 0.18384480476379395, 0.1418468952178955, 0.1192464828491211, 0.10431814193725586, 0.09369897842407227, 0.08632493019104004, 0.08074617385864258, 0.07579231262207031, 0.06963300704956055, 0.06728339195251465, 0.0624697208404541, 0.060872793197631836, 0.05755782127380371, 0.054431915283203125, 0.053734779357910156, 0.05074191093444824, 0.04969024658203125, 0.05003476142883301]\n"
     ]
    }
   ],
   "source": [
    "str_4plot = open(\"p1b_rv.out\", \"r\").read()\n",
    "\n",
    "cores = []\n",
    "time = []\n",
    "\n",
    "for i in str_4plot.split('\\n'):\n",
    "    time_core = i.split(' cores: ')\n",
    "    if time_core != ['']:\n",
    "        cores.append(int(time_core[0][-2:]))\n",
    "        time.append(float(time_core[1]))\n",
    "         \n",
    "print(cores)\n",
    "print(time)"
   ]
  },
  {
   "cell_type": "code",
   "execution_count": 36,
   "metadata": {},
   "outputs": [],
   "source": []
  }
 ],
 "metadata": {
  "interpreter": {
   "hash": "a94d2d880ee68f7d27f3e47cfa2c84f2b235891f7a3c5551ea4df16cb6bff7e6"
  },
  "kernelspec": {
   "display_name": "Python 3.8.8 ('base')",
   "language": "python",
   "name": "python3"
  },
  "language_info": {
   "codemirror_mode": {
    "name": "ipython",
    "version": 3
   },
   "file_extension": ".py",
   "mimetype": "text/x-python",
   "name": "python",
   "nbconvert_exporter": "python",
   "pygments_lexer": "ipython3",
   "version": "3.8.8"
  },
  "orig_nbformat": 4
 },
 "nbformat": 4,
 "nbformat_minor": 2
}
